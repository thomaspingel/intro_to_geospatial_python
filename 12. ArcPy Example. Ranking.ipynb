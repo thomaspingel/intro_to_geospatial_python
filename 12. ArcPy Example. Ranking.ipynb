{
 "cells": [
  {
   "cell_type": "markdown",
   "metadata": {},
   "source": [
    "In this example, we'll combine numpy and ArcPy approaches to populate a field of ranked data.  This is complex to do in a field calculation, since it requires a global, rather than iterative, transformation."
   ]
  },
  {
   "cell_type": "code",
   "execution_count": 1,
   "metadata": {},
   "outputs": [],
   "source": [
    "# First, read in the necessary libraries\n",
    "\n",
    "import arcpy\n",
    "import numpy as np\n",
    "from scipy import stats"
   ]
  },
  {
   "cell_type": "code",
   "execution_count": 8,
   "metadata": {},
   "outputs": [],
   "source": [
    "# And define variables, including workspace, the input data, and the input and output fields.\n",
    "# Additionally, define weather to provide a rank in ascending or descending order.\n",
    "# Ascending means that higher values will receive higher (worse) rank values (1 to 1st, 10,000 to nth.)\n",
    "\n",
    "arcpy.env.workspace = \"data/\"\n",
    "\n",
    "layer = \"ne_10m_populated_places_simple.shp\"\n",
    "field = \"pop_max\"\n",
    "outfield = \"npop_rank\"\n",
    "ascending = False"
   ]
  },
  {
   "cell_type": "code",
   "execution_count": 9,
   "metadata": {},
   "outputs": [
    {
     "name": "stdout",
     "output_type": "stream",
     "text": [
      "[   21714.    21093.    23279. ...,  4630000.  5183700.  7206000.]\n"
     ]
    }
   ],
   "source": [
    "# Using a search cursor, iterate through the data, and record each value in a numpy array.\n",
    "\n",
    "result = arcpy.GetCount_management(layer)\n",
    "n_records = int(result.getOutput(0))\n",
    "values = np.zeros(int(n_records),dtype=np.float)\n",
    "\n",
    "with arcpy.da.SearchCursor(layer,field) as cursor:\n",
    "    for i,row in enumerate(cursor):\n",
    "        values[i] = row[0]\n",
    "        \n",
    "print(values)"
   ]
  },
  {
   "cell_type": "code",
   "execution_count": 10,
   "metadata": {},
   "outputs": [
    {
     "data": {
      "text/plain": [
       "<Result 'data\\\\ne_10m_populated_places_simple.shp'>"
      ]
     },
     "execution_count": 10,
     "metadata": {},
     "output_type": "execute_result"
    }
   ],
   "source": [
    "# If the field exists, delete the field before proceeding.\n",
    "try:\n",
    "    arcpy.DeleteField_management(layer,outfield)\n",
    "    arcpy.AddMessage(\"Field exists. Deleting Field.\")\n",
    "except:\n",
    "    arcpy.AddMessage(\"Field did not alrady exist.\")\n",
    "arcpy.AddMessage(\"Creating Field.\")\n",
    "arcpy.AddField_management(layer,outfield,\"FLOAT\")"
   ]
  },
  {
   "cell_type": "code",
   "execution_count": 11,
   "metadata": {},
   "outputs": [
    {
     "name": "stdout",
     "output_type": "stream",
     "text": [
      "[   21714.    21093.    23279. ...,  4630000.  5183700.  7206000.]\n",
      "[ 5384.  5413.  5307. ...,    59.    50.    33.]\n"
     ]
    }
   ],
   "source": [
    "# Using scipy.stats, calculate the ranked data.  There are several ways to do this, and this could be\n",
    "# an additional parameter.  Here, assign the average for tied ranks.\n",
    "rank_values = stats.rankdata(values)\n",
    "if ascending==False:\n",
    "    rank_values = np.max(rank_values) + 1 - rank_values \n",
    "print(values)\n",
    "print(rank_values)"
   ]
  },
  {
   "cell_type": "code",
   "execution_count": 12,
   "metadata": {},
   "outputs": [],
   "source": [
    "# Iterate through the field with an update cursor, writing the new values.\n",
    "\n",
    "with arcpy.da.UpdateCursor(layer,outfield) as cursor:\n",
    "    for i,row in enumerate(cursor):\n",
    "        row[0] = rank_values[i]\n",
    "        cursor.updateRow(row)"
   ]
  },
  {
   "cell_type": "code",
   "execution_count": 13,
   "metadata": {},
   "outputs": [],
   "source": [
    "del cursor"
   ]
  },
  {
   "cell_type": "code",
   "execution_count": null,
   "metadata": {},
   "outputs": [],
   "source": []
  }
 ],
 "metadata": {
  "kernelspec": {
   "display_name": "Python 2",
   "language": "python",
   "name": "python2"
  },
  "language_info": {
   "codemirror_mode": {
    "name": "ipython",
    "version": 2
   },
   "file_extension": ".py",
   "mimetype": "text/x-python",
   "name": "python",
   "nbconvert_exporter": "python",
   "pygments_lexer": "ipython2",
   "version": "2.7.12"
  }
 },
 "nbformat": 4,
 "nbformat_minor": 2
}
