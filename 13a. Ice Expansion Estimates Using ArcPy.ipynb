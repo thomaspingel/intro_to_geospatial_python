{
 "cells": [
  {
   "cell_type": "markdown",
   "metadata": {},
   "source": [
    "# Ice Exapansion in Lake Michigan with ArcPy\n",
    "\n",
    "“I would like to know how to find the area that the different colors on these ice maps cover. \n",
    "\n",
    "The idea is to determine what percent of the southern portion of Lake Michigan is covered by each color in order to calculate the average ice coverage on that part of the lake. \n",
    "\n",
    "The attached map is an example of an ice coverage map, and the link is to the website where the map originated; this website also has shapefiles and ASCII files in case either of those formats would be easier to handle.”\n",
    "\n",
    "Original data from http://www.glerl.noaa.gov/data/pgs/glice/glice.html"
   ]
  },
  {
   "cell_type": "code",
   "execution_count": 3,
   "metadata": {
    "collapsed": true
   },
   "outputs": [],
   "source": [
    "import arcpy\n",
    "import time"
   ]
  },
  {
   "cell_type": "code",
   "execution_count": 4,
   "metadata": {
    "collapsed": true
   },
   "outputs": [],
   "source": [
    "# This is the defined study area polygon.\n",
    "\n",
    "study_area = 'data/study_area.shp'"
   ]
  },
  {
   "cell_type": "code",
   "execution_count": 5,
   "metadata": {
    "collapsed": true
   },
   "outputs": [],
   "source": [
    "# Place where shapefile data are stored.  All should be unzipped in a single\n",
    "# directory.\n",
    "\n",
    "arcpy.env.workspace = 'data/shp2008'\n",
    "arcpy.env.overwriteOutput = True"
   ]
  },
  {
   "cell_type": "code",
   "execution_count": 6,
   "metadata": {
    "collapsed": false
   },
   "outputs": [
    {
     "name": "stdout",
     "output_type": "stream",
     "text": [
      "[u'20071127.shp', u'20071129.shp', u'20071203.shp', u'20071206.shp', u'20071210.shp']\n"
     ]
    }
   ],
   "source": [
    "# Get list of all shapefiles in that directory.  These files all start with\n",
    "# the year (2003 to present), so search for any that start with 2.\n",
    "\n",
    "fns = arcpy.ListFeatureClasses('2*')\n",
    "\n",
    "# Show the first 5, for verification that it worked.\n",
    "print(fns[:5])"
   ]
  },
  {
   "cell_type": "code",
   "execution_count": 7,
   "metadata": {
    "collapsed": true
   },
   "outputs": [],
   "source": [
    "# Define column headings for output data table\n",
    "columns = [0,5,10,20,30,40,50,60,70,80,90,95,100]\n",
    "column_names = [(\"PRC_\" + str(i)) for i in columns]"
   ]
  },
  {
   "cell_type": "code",
   "execution_count": 8,
   "metadata": {
    "collapsed": false
   },
   "outputs": [
    {
     "data": {
      "text/plain": [
       "<Result 'd:\\\\data\\\\Classes\\\\Current\\\\GEOG 493 - Computer Methods and Modeling - Fall 2016\\\\content\\\\Unit 11 - ArcPy vs Open Source\\\\out\\\\out_table.dbf'>"
      ]
     },
     "execution_count": 8,
     "metadata": {},
     "output_type": "execute_result"
    }
   ],
   "source": [
    "# Create output data table.  \n",
    "\n",
    "output_table = arcpy.CreateTable_management('out','out_table.dbf')\n",
    "arcpy.AddField_management(output_table,\"date\",\"LONG\")\n",
    "for c in column_names:\n",
    "    arcpy.AddField_management(output_table,c,\"SHORT\")\n",
    "arcpy.DeleteField_management(output_table,\"Field1\")"
   ]
  },
  {
   "cell_type": "code",
   "execution_count": 9,
   "metadata": {
    "collapsed": true
   },
   "outputs": [],
   "source": [
    "# Create a template database, filling in date fields with shapefile names.\n",
    "# All other fields (ice coverage counts) default to 0.\n",
    "insertCursor = arcpy.da.InsertCursor(output_table,\"date\")\n",
    "for fn in fns:\n",
    "    insertCursor.insertRow([int(fn[0:8])])\n",
    "del insertCursor"
   ]
  },
  {
   "cell_type": "code",
   "execution_count": 10,
   "metadata": {
    "collapsed": false
   },
   "outputs": [
    {
     "name": "stdout",
     "output_type": "stream",
     "text": [
      "20071127.shp\n",
      "[15161, 0, 0, 0, 0, 0, 0, 0, 0, 0, 0, 0, 0]\n",
      "20071129.shp\n",
      "[15161, 0, 0, 0, 0, 0, 0, 0, 0, 0, 0, 0, 0]\n",
      "20071203.shp\n",
      "[15161, 0, 0, 0, 0, 0, 0, 0, 0, 0, 0, 0, 0]\n",
      "20071206.shp\n",
      "[14825, 336, 0, 0, 0, 0, 0, 0, 0, 0, 0, 0, 0]\n",
      "20071210.shp\n",
      "[14834, 327, 0, 0, 0, 0, 0, 0, 0, 0, 0, 0, 0]\n",
      "20071213.shp\n",
      "[14905, 256, 0, 0, 0, 0, 0, 0, 0, 0, 0, 0, 0]\n",
      "20071217.shp\n",
      "[13475, 1686, 0, 0, 0, 0, 0, 0, 0, 0, 0, 0, 0]\n",
      "20071220.shp\n",
      "[13950, 1211, 0, 0, 0, 0, 0, 0, 0, 0, 0, 0, 0]\n",
      "20071224.shp\n",
      "[15161, 0, 0, 0, 0, 0, 0, 0, 0, 0, 0, 0, 0]\n",
      "20071227.shp\n",
      "[15161, 0, 0, 0, 0, 0, 0, 0, 0, 0, 0, 0, 0]\n",
      "20071231.shp\n",
      "[15161, 0, 0, 0, 0, 0, 0, 0, 0, 0, 0, 0, 0]\n",
      "20080103.shp\n",
      "[14372, 619, 0, 170, 0, 0, 0, 0, 0, 0, 0, 0, 0]\n",
      "20080107.shp\n",
      "[14727, 434, 0, 0, 0, 0, 0, 0, 0, 0, 0, 0, 0]\n",
      "20080110.shp\n",
      "[15161, 0, 0, 0, 0, 0, 0, 0, 0, 0, 0, 0, 0]\n",
      "20080114.shp\n",
      "[15161, 0, 0, 0, 0, 0, 0, 0, 0, 0, 0, 0, 0]\n",
      "20080117.shp\n",
      "[15161, 0, 0, 0, 0, 0, 0, 0, 0, 0, 0, 0, 0]\n",
      "20080121.shp\n",
      "[12486, 1506, 0, 308, 0, 0, 0, 0, 728, 0, 133, 0, 0]\n",
      "20080124.shp\n",
      "[12578, 1504, 0, 0, 475, 0, 604, 0, 0, 0, 0, 0, 0]\n",
      "20080128.shp\n",
      "[6958, 5495, 0, 322, 0, 0, 0, 0, 1013, 0, 1373, 0, 0]\n",
      "20080131.shp\n",
      "[6988, 6477, 0, 0, 0, 220, 0, 60, 252, 0, 1164, 0, 0]\n",
      "20080204.shp\n",
      "[6315, 6894, 0, 0, 0, 0, 1000, 0, 0, 952, 0, 0, 0]\n",
      "20080207.shp\n",
      "[5983, 8082, 0, 0, 0, 0, 0, 491, 0, 477, 0, 128, 0]\n",
      "20080211.shp\n",
      "[6286, 5162, 0, 0, 0, 0, 711, 0, 0, 554, 431, 2017, 0]\n",
      "20080214.shp\n",
      "[6031, 5265, 0, 0, 0, 0, 0, 2004, 0, 0, 0, 1861, 0]\n",
      "20080218.shp\n",
      "[5261, 5916, 0, 2326, 0, 0, 0, 0, 0, 0, 0, 1658, 0]\n",
      "20080221.shp\n",
      "[5175, 5336, 0, 0, 0, 0, 0, 0, 1124, 0, 0, 3526, 0]\n",
      "20080225.shp\n",
      "[5043, 5531, 0, 0, 0, 0, 0, 1769, 0, 2248, 0, 567, 3]\n",
      "20080228.shp\n",
      "[5705, 7832, 0, 0, 0, 0, 0, 0, 0, 1317, 0, 307, 0]\n",
      "20080304.shp\n",
      "[7249, 6829, 0, 0, 0, 0, 0, 0, 592, 0, 0, 491, 0]\n",
      "20080306.shp\n",
      "[5795, 8507, 0, 0, 0, 397, 0, 0, 0, 276, 0, 186, 0]\n",
      "20080311.shp\n",
      "[7711, 5753, 0, 0, 0, 0, 0, 0, 0, 859, 0, 838, 0]\n",
      "20080313.shp\n",
      "[5029, 7266, 0, 1791, 0, 0, 774, 0, 0, 0, 0, 301, 0]\n",
      "20080318.shp\n",
      "[7834, 6899, 0, 0, 0, 0, 0, 0, 428, 0, 0, 0, 0]\n",
      "20080319.shp\n",
      "[7083, 7254, 0, 354, 0, 0, 0, 0, 470, 0, 0, 0, 0]\n",
      "20080320.shp\n",
      "[8030, 6637, 0, 0, 0, 0, 494, 0, 0, 0, 0, 0, 0]\n",
      "20080325.shp\n",
      "[8997, 6133, 0, 0, 0, 0, 0, 0, 0, 0, 31, 0, 0]\n",
      "20080326.shp\n",
      "[9194, 5956, 0, 11, 0, 0, 0, 0, 0, 0, 0, 0, 0]\n",
      "20080327.shp\n",
      "[10665, 4496, 0, 0, 0, 0, 0, 0, 0, 0, 0, 0, 0]\n",
      "20080401.shp\n",
      "[10821, 4340, 0, 0, 0, 0, 0, 0, 0, 0, 0, 0, 0]\n",
      "20080402.shp\n",
      "[10839, 4322, 0, 0, 0, 0, 0, 0, 0, 0, 0, 0, 0]\n",
      "20080403.shp\n",
      "[10986, 4175, 0, 0, 0, 0, 0, 0, 0, 0, 0, 0, 0]\n",
      "20080408.shp\n",
      "[15161, 0, 0, 0, 0, 0, 0, 0, 0, 0, 0, 0, 0]\n",
      "20080409.shp\n",
      "[15161, 0, 0, 0, 0, 0, 0, 0, 0, 0, 0, 0, 0]\n",
      "20080410.shp\n",
      "[15161, 0, 0, 0, 0, 0, 0, 0, 0, 0, 0, 0, 0]\n",
      "20080415.shp\n",
      "[6315, 6894, 0, 0, 0, 0, 1000, 0, 0, 952, 0, 0, 0]\n",
      "20080416.shp\n",
      "[15161, 0, 0, 0, 0, 0, 0, 0, 0, 0, 0, 0, 0]\n",
      "20080417.shp\n",
      "[15161, 0, 0, 0, 0, 0, 0, 0, 0, 0, 0, 0, 0]\n",
      "20080421.shp\n",
      "[15161, 0, 0, 0, 0, 0, 0, 0, 0, 0, 0, 0, 0]\n",
      "20080424.shp\n",
      "[15161, 0, 0, 0, 0, 0, 0, 0, 0, 0, 0, 0, 0]\n",
      "20080428.shp\n",
      "[15161, 0, 0, 0, 0, 0, 0, 0, 0, 0, 0, 0, 0]\n",
      "20080501.shp\n",
      "[15161, 0, 0, 0, 0, 0, 0, 0, 0, 0, 0, 0, 0]\n",
      "20080505.shp\n",
      "[15161, 0, 0, 0, 0, 0, 0, 0, 0, 0, 0, 0, 0]\n",
      "20080508.shp\n",
      "[15161, 0, 0, 0, 0, 0, 0, 0, 0, 0, 0, 0, 0]\n",
      "20080512.shp\n",
      "[15161, 0, 0, 0, 0, 0, 0, 0, 0, 0, 0, 0, 0]\n",
      "20080515.shp\n",
      "[15161, 0, 0, 0, 0, 0, 0, 0, 0, 0, 0, 0, 0]\n",
      "('Processing complete.  Total time:', 323.0069999694824)\n"
     ]
    }
   ],
   "source": [
    "# For each shapefile, read in, perform a clip to the study area, and do a \n",
    "# frequency analysis.  A search cursor is used to read in values from the \n",
    "# frequency table, and an update cursor is used to write those values to the\n",
    "# output table.\n",
    "\n",
    "start_time = time.time()\n",
    "\n",
    "updateCursor = arcpy.da.UpdateCursor(output_table,column_names)\n",
    "for fn in fns:\n",
    "    print fn\n",
    "\n",
    "    # Perform and save the tabulation\n",
    "    outfile_name = 'table_' + str(fn[0:8]) + '.csv'\n",
    "    step_1 = arcpy.Clip_analysis(fn,study_area,\"clipped_feature.shp\")\n",
    "    step_2 = arcpy.Frequency_analysis(step_1,outfile_name,\"iceconc\")\n",
    "\n",
    "    # Retreive this row in the database\n",
    "    this_row = updateCursor.next()\n",
    "\n",
    "    # Update row with new info\n",
    "    searchCursor = arcpy.da.SearchCursor(step_2,'*')\n",
    "    for tabulate_row in searchCursor:\n",
    "        this_count = tabulate_row[1]\n",
    "        this_bin = tabulate_row[2]\n",
    "        idx = columns.index(this_bin)\n",
    "        this_row[idx] = this_count\n",
    "    print this_row\n",
    "    updateCursor.updateRow(this_row)\n",
    "    \n",
    "        \n",
    "    del searchCursor\n",
    "\n",
    "del updateCursor\n",
    "\n",
    "end_time = time.time()\n",
    "\n",
    "print('Processing complete.  Total time:', end_time - start_time)"
   ]
  },
  {
   "cell_type": "code",
   "execution_count": null,
   "metadata": {
    "collapsed": true
   },
   "outputs": [],
   "source": []
  }
 ],
 "metadata": {
  "kernelspec": {
   "display_name": "Python 2",
   "language": "python",
   "name": "python2"
  },
  "language_info": {
   "codemirror_mode": {
    "name": "ipython",
    "version": 2
   },
   "file_extension": ".py",
   "mimetype": "text/x-python",
   "name": "python",
   "nbconvert_exporter": "python",
   "pygments_lexer": "ipython2",
   "version": "2.7.10"
  }
 },
 "nbformat": 4,
 "nbformat_minor": 1
}
