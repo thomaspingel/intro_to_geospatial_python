{
 "cells": [
  {
   "cell_type": "markdown",
   "metadata": {},
   "source": [
    "### Monte Carlo Modeling\n",
    "\n",
    "http://www.analyzemath.com/statistics/probability_questions.html"
   ]
  },
  {
   "cell_type": "code",
   "execution_count": 95,
   "metadata": {
    "collapsed": true
   },
   "outputs": [],
   "source": [
    "import numpy as np\n",
    "from scipy.stats import binom, itemfreq\n",
    "import matplotlib.pyplot as plt\n",
    "import pandas as pd\n",
    "%matplotlib inline"
   ]
  },
  {
   "cell_type": "markdown",
   "metadata": {},
   "source": [
    "Monte Carlo simulation involves using randomness and iteration to replicate some process.  We've seen many random number generators before."
   ]
  },
  {
   "cell_type": "code",
   "execution_count": null,
   "metadata": {
    "collapsed": true
   },
   "outputs": [],
   "source": [
    "# Play along!\n",
    "# In what ways have we already generated random numbers in this course?"
   ]
  },
  {
   "cell_type": "code",
   "execution_count": null,
   "metadata": {
    "collapsed": true
   },
   "outputs": [],
   "source": [
    "One way to get a handle on what Monte Carlo is all about is to simulate some things we already know:"
   ]
  },
  {
   "cell_type": "markdown",
   "metadata": {},
   "source": [
    "## Simple calculations"
   ]
  },
  {
   "cell_type": "code",
   "execution_count": 2,
   "metadata": {
    "collapsed": false
   },
   "outputs": [
    {
     "data": {
      "text/plain": [
       "0.45"
      ]
     },
     "execution_count": 2,
     "metadata": {},
     "output_type": "execute_result"
    }
   ],
   "source": [
    "# What percentage of the numbers between 1 and 100 are greater than 55?\n",
    "\n",
    "# This is directly answerable:\n",
    "len(np.arange(56,101)) / len(np.arange(1,101))"
   ]
  },
  {
   "cell_type": "code",
   "execution_count": 491,
   "metadata": {
    "collapsed": false
   },
   "outputs": [
    {
     "data": {
      "text/plain": [
       "0.46000000000000002"
      ]
     },
     "execution_count": 491,
     "metadata": {},
     "output_type": "execute_result"
    }
   ],
   "source": [
    "# But we could also simulate this:\n",
    "k = 100\n",
    "x = np.random.randint(1,101,k)\n",
    "np.sum(x > 55) / k"
   ]
  },
  {
   "cell_type": "code",
   "execution_count": null,
   "metadata": {
    "collapsed": true
   },
   "outputs": [],
   "source": [
    "# Play along!  Simulate rolling a six-sided die 100 times.  How many times did you get an even number?"
   ]
  },
  {
   "cell_type": "code",
   "execution_count": null,
   "metadata": {
    "collapsed": true
   },
   "outputs": [],
   "source": [
    "# Play along!  Using Monte Carlo, solve:\n",
    "# Two coins are tossed, find the probability that two heads are obtained. "
   ]
  },
  {
   "cell_type": "code",
   "execution_count": null,
   "metadata": {
    "collapsed": true
   },
   "outputs": [],
   "source": [
    "# Play along!\n",
    "# Two dice are rolled, find the probability that the sum is between 3 and 11 (inclusive)"
   ]
  },
  {
   "cell_type": "markdown",
   "metadata": {},
   "source": [
    "## With means and standard deviations"
   ]
  },
  {
   "cell_type": "code",
   "execution_count": 6,
   "metadata": {
    "collapsed": false
   },
   "outputs": [
    {
     "data": {
      "text/plain": [
       "0.21299999999999999"
      ]
     },
     "execution_count": 6,
     "metadata": {},
     "output_type": "execute_result"
    }
   ],
   "source": [
    "# For easy problems, we might just run the direct calculations, but when the situation gets even a little messy, randomness \n",
    "# can be very effective.\n",
    "\n",
    "# I have a sample of 10,000 rats with a mean weight of 230 grams (SD = 25).  What percentage of my rats are above 250 grams?\n",
    "\n",
    "k = 10000\n",
    "x = np.random.normal(loc=230,scale=25,size=k)\n",
    "np.sum(x>250) / k"
   ]
  },
  {
   "cell_type": "code",
   "execution_count": 7,
   "metadata": {
    "collapsed": false
   },
   "outputs": [
    {
     "data": {
      "text/plain": [
       "0.43380000000000002"
      ]
     },
     "execution_count": 7,
     "metadata": {},
     "output_type": "execute_result"
    }
   ],
   "source": [
    "# I have invented a growth serum that boosts rat weight by M=15.5, SD=22.12\n",
    "# Give the growth serum to the rats!  (Muhahaha!) and tell me how many are over 250 grams?\n",
    "\n",
    "k = 10000\n",
    "rats = np.random.normal(loc=230,scale=25,size=k)\n",
    "serum = np.random.normal(15.5,12.12,k)\n",
    "rats = rats + serum\n",
    "np.sum(rats>250) / k"
   ]
  },
  {
   "cell_type": "code",
   "execution_count": 20,
   "metadata": {
    "collapsed": false
   },
   "outputs": [
    {
     "data": {
      "text/plain": [
       "0.44"
      ]
     },
     "execution_count": 20,
     "metadata": {},
     "output_type": "execute_result"
    }
   ],
   "source": [
    "# These rats are too expensive!  Experiment with k to find out the minimum you think I neeed before the output gets unreliable.\n",
    "# You'll need to repeat each observations a few times and watch the output to be sure.\n",
    "\n",
    "k = 50  # Adjust this number at look at the result.  How many rats do I need for a stable, reliable result?\n",
    "rats = np.random.normal(loc=230,scale=25,size=k)\n",
    "serum = np.random.normal(15.5,12.12,k)\n",
    "rats = rats + serum\n",
    "np.sum(rats>250) / k\n",
    "\n",
    "# Play along!  Write your answer here, along with a justification."
   ]
  },
  {
   "cell_type": "markdown",
   "metadata": {},
   "source": [
    "## random.choice"
   ]
  },
  {
   "cell_type": "code",
   "execution_count": 30,
   "metadata": {
    "collapsed": false
   },
   "outputs": [
    {
     "data": {
      "text/plain": [
       "'Shaggy'"
      ]
     },
     "execution_count": 30,
     "metadata": {},
     "output_type": "execute_result"
    }
   ],
   "source": [
    "# One of the nice ways to simulate a random process is with random.choice:\n",
    "\n",
    "# This will randomly select one of these in the list.  Rerun it to see!\n",
    "\n",
    "np.random.choice(['Fred','Velma','Shaggy','Scooby','Daphne'])"
   ]
  },
  {
   "cell_type": "code",
   "execution_count": 32,
   "metadata": {
    "collapsed": false
   },
   "outputs": [
    {
     "name": "stdout",
     "output_type": "stream",
     "text": [
      "['Shaggy' 'Daphne' 'Daphne']\n"
     ]
    }
   ],
   "source": [
    "# You can select multiple people:\n",
    "\n",
    "selection = np.random.choice(['Fred','Velma','Shaggy','Scooby','Daphne'],size=3)\n",
    "print(selection)"
   ]
  },
  {
   "cell_type": "code",
   "execution_count": 44,
   "metadata": {
    "collapsed": false
   },
   "outputs": [
    {
     "name": "stdout",
     "output_type": "stream",
     "text": [
      "['Daphne' 'Velman' 'Shaggy']\n"
     ]
    }
   ],
   "source": [
    "# You can select multiple people, and you can indicate whether you want to replace (to avoid duplicates)\n",
    "\n",
    "selection = np.random.choice(['Fred','Velma','Shaggy','Scooby','Daphne'],size=3,replace=False)\n",
    "print(selection)"
   ]
  },
  {
   "cell_type": "code",
   "execution_count": 45,
   "metadata": {
    "collapsed": false
   },
   "outputs": [
    {
     "ename": "ValueError",
     "evalue": "Cannot take a larger sample than population when 'replace=False'",
     "output_type": "error",
     "traceback": [
      "\u001b[0;31m---------------------------------------------------------------------------\u001b[0m",
      "\u001b[0;31mValueError\u001b[0m                                Traceback (most recent call last)",
      "\u001b[0;32m<ipython-input-45-b7d0dc07b11f>\u001b[0m in \u001b[0;36m<module>\u001b[0;34m()\u001b[0m\n\u001b[1;32m      1\u001b[0m \u001b[1;31m# If you aren't replacing, you can't pick a sample larger than the length of your list.\u001b[0m\u001b[1;33m\u001b[0m\u001b[1;33m\u001b[0m\u001b[0m\n\u001b[0;32m----> 2\u001b[0;31m \u001b[0mselection\u001b[0m \u001b[1;33m=\u001b[0m \u001b[0mnp\u001b[0m\u001b[1;33m.\u001b[0m\u001b[0mrandom\u001b[0m\u001b[1;33m.\u001b[0m\u001b[0mchoice\u001b[0m\u001b[1;33m(\u001b[0m\u001b[1;33m[\u001b[0m\u001b[1;34m'Fred'\u001b[0m\u001b[1;33m,\u001b[0m\u001b[1;34m'Velman'\u001b[0m\u001b[1;33m,\u001b[0m\u001b[1;34m'Shaggy'\u001b[0m\u001b[1;33m,\u001b[0m\u001b[1;34m'Scooby'\u001b[0m\u001b[1;33m,\u001b[0m\u001b[1;34m'Daphne'\u001b[0m\u001b[1;33m]\u001b[0m\u001b[1;33m,\u001b[0m\u001b[0msize\u001b[0m\u001b[1;33m=\u001b[0m\u001b[1;36m6\u001b[0m\u001b[1;33m,\u001b[0m\u001b[0mreplace\u001b[0m\u001b[1;33m=\u001b[0m\u001b[1;32mFalse\u001b[0m\u001b[1;33m)\u001b[0m\u001b[1;33m\u001b[0m\u001b[0m\n\u001b[0m\u001b[1;32m      3\u001b[0m \u001b[0mprint\u001b[0m\u001b[1;33m(\u001b[0m\u001b[0mselection\u001b[0m\u001b[1;33m)\u001b[0m\u001b[1;33m\u001b[0m\u001b[0m\n",
      "\u001b[0;32mmtrand.pyx\u001b[0m in \u001b[0;36mmtrand.RandomState.choice\u001b[0;34m()\u001b[0m\n",
      "\u001b[0;31mValueError\u001b[0m: Cannot take a larger sample than population when 'replace=False'"
     ]
    }
   ],
   "source": [
    "# If you aren't replacing, you can't pick a sample larger than the length of your list.\n",
    "selection = np.random.choice(['Fred','Velman','Shaggy','Scooby','Daphne'],size=6,replace=False)\n",
    "print(selection)"
   ]
  },
  {
   "cell_type": "code",
   "execution_count": 530,
   "metadata": {
    "collapsed": false
   },
   "outputs": [
    {
     "name": "stdout",
     "output_type": "stream",
     "text": [
      "You just drew the 2 of Hearts .\n"
     ]
    }
   ],
   "source": [
    "# Simulate a deck of cards:\n",
    "\n",
    "suit = ['Clubs','Spades','Diamonds','Hearts']\n",
    "value = list('23456789')\n",
    "value.extend(['10','Jack','Queen','King','Ace'])\n",
    "draw = (np.random.choice(value),np.random.choice(suit))\n",
    "print('You just drew the',draw[0],'of',draw[1],'.')"
   ]
  },
  {
   "cell_type": "code",
   "execution_count": 531,
   "metadata": {
    "collapsed": false
   },
   "outputs": [
    {
     "name": "stdout",
     "output_type": "stream",
     "text": [
      "[['2' '3' '4' '5' '6' '7' '8' '9' '10' 'Jack' 'Queen' 'King' 'Ace']\n",
      " ['2' '3' '4' '5' '6' '7' '8' '9' '10' 'Jack' 'Queen' 'King' 'Ace']\n",
      " ['2' '3' '4' '5' '6' '7' '8' '9' '10' 'Jack' 'Queen' 'King' 'Ace']\n",
      " ['2' '3' '4' '5' '6' '7' '8' '9' '10' 'Jack' 'Queen' 'King' 'Ace']]\n"
     ]
    }
   ],
   "source": [
    "# Let's simulate the WHOLE deck using a Pandas Dataframe and np.tile\n",
    "\n",
    "values = np.tile(value,(4,1))\n",
    "print(values)"
   ]
  },
  {
   "cell_type": "code",
   "execution_count": 532,
   "metadata": {
    "collapsed": false
   },
   "outputs": [
    {
     "name": "stdout",
     "output_type": "stream",
     "text": [
      "[['Clubs' 'Spades' 'Diamonds' 'Hearts']\n",
      " ['Clubs' 'Spades' 'Diamonds' 'Hearts']\n",
      " ['Clubs' 'Spades' 'Diamonds' 'Hearts']\n",
      " ['Clubs' 'Spades' 'Diamonds' 'Hearts']\n",
      " ['Clubs' 'Spades' 'Diamonds' 'Hearts']\n",
      " ['Clubs' 'Spades' 'Diamonds' 'Hearts']\n",
      " ['Clubs' 'Spades' 'Diamonds' 'Hearts']\n",
      " ['Clubs' 'Spades' 'Diamonds' 'Hearts']\n",
      " ['Clubs' 'Spades' 'Diamonds' 'Hearts']\n",
      " ['Clubs' 'Spades' 'Diamonds' 'Hearts']\n",
      " ['Clubs' 'Spades' 'Diamonds' 'Hearts']\n",
      " ['Clubs' 'Spades' 'Diamonds' 'Hearts']\n",
      " ['Clubs' 'Spades' 'Diamonds' 'Hearts']]\n"
     ]
    }
   ],
   "source": [
    "suits = np.tile(suit,(13,1))\n",
    "print(suits)"
   ]
  },
  {
   "cell_type": "code",
   "execution_count": 533,
   "metadata": {
    "collapsed": false
   },
   "outputs": [
    {
     "name": "stdout",
     "output_type": "stream",
     "text": [
      "(4, 13)\n",
      "(13, 4)\n"
     ]
    }
   ],
   "source": [
    "print(np.shape(values))\n",
    "print(np.shape(suits))\n",
    "\n",
    "# Play along!  Given this information, how can we put our suits and values together?"
   ]
  },
  {
   "cell_type": "code",
   "execution_count": 119,
   "metadata": {
    "collapsed": false
   },
   "outputs": [
    {
     "name": "stdout",
     "output_type": "stream",
     "text": [
      "['2' '2' '2' '2' '3' '3' '3' '3' '4' '4' '4' '4' '5' '5' '5' '5' '6' '6'\n",
      " '6' '6' '7' '7' '7' '7' '8' '8' '8' '8' '9' '9' '9' '9' '10' '10' '10'\n",
      " '10' 'Jack' 'Jack' 'Jack' 'Jack' 'Queen' 'Queen' 'Queen' 'Queen' 'King'\n",
      " 'King' 'King' 'King' 'Ace' 'Ace' 'Ace' 'Ace']\n",
      "['Clubs' 'Spades' 'Diamonds' 'Hearts' 'Clubs' 'Spades' 'Diamonds' 'Hearts'\n",
      " 'Clubs' 'Spades' 'Diamonds' 'Hearts' 'Clubs' 'Spades' 'Diamonds' 'Hearts'\n",
      " 'Clubs' 'Spades' 'Diamonds' 'Hearts' 'Clubs' 'Spades' 'Diamonds' 'Hearts'\n",
      " 'Clubs' 'Spades' 'Diamonds' 'Hearts' 'Clubs' 'Spades' 'Diamonds' 'Hearts'\n",
      " 'Clubs' 'Spades' 'Diamonds' 'Hearts' 'Clubs' 'Spades' 'Diamonds' 'Hearts'\n",
      " 'Clubs' 'Spades' 'Diamonds' 'Hearts' 'Clubs' 'Spades' 'Diamonds' 'Hearts'\n",
      " 'Clubs' 'Spades' 'Diamonds' 'Hearts']\n"
     ]
    }
   ],
   "source": [
    "print(values.T.flatten())\n",
    "print(suits.flatten())"
   ]
  },
  {
   "cell_type": "code",
   "execution_count": 120,
   "metadata": {
    "collapsed": false
   },
   "outputs": [
    {
     "name": "stdout",
     "output_type": "stream",
     "text": [
      "        suit  value\n",
      "0      Clubs      2\n",
      "1     Spades      3\n",
      "2   Diamonds      4\n",
      "3     Hearts      5\n",
      "4      Clubs      6\n",
      "5     Spades      7\n",
      "6   Diamonds      8\n",
      "7     Hearts      9\n",
      "8      Clubs     10\n",
      "9     Spades   Jack\n",
      "10  Diamonds  Queen\n",
      "11    Hearts   King\n",
      "12     Clubs    Ace\n",
      "13    Spades      2\n",
      "14  Diamonds      3\n",
      "15    Hearts      4\n",
      "16     Clubs      5\n",
      "17    Spades      6\n",
      "18  Diamonds      7\n",
      "19    Hearts      8\n",
      "20     Clubs      9\n",
      "21    Spades     10\n",
      "22  Diamonds   Jack\n",
      "23    Hearts  Queen\n",
      "24     Clubs   King\n",
      "25    Spades    Ace\n",
      "26  Diamonds      2\n",
      "27    Hearts      3\n",
      "28     Clubs      4\n",
      "29    Spades      5\n",
      "30  Diamonds      6\n",
      "31    Hearts      7\n",
      "32     Clubs      8\n",
      "33    Spades      9\n",
      "34  Diamonds     10\n",
      "35    Hearts   Jack\n",
      "36     Clubs  Queen\n",
      "37    Spades   King\n",
      "38  Diamonds    Ace\n",
      "39    Hearts      2\n",
      "40     Clubs      3\n",
      "41    Spades      4\n",
      "42  Diamonds      5\n",
      "43    Hearts      6\n",
      "44     Clubs      7\n",
      "45    Spades      8\n",
      "46  Diamonds      9\n",
      "47    Hearts     10\n",
      "48     Clubs   Jack\n",
      "49    Spades  Queen\n",
      "50  Diamonds   King\n",
      "51    Hearts    Ace\n"
     ]
    }
   ],
   "source": [
    "deck = pd.DataFrame({'suit':suits.flatten(),'value':values.flatten()})\n",
    "print(deck)"
   ]
  },
  {
   "cell_type": "code",
   "execution_count": 106,
   "metadata": {
    "collapsed": true
   },
   "outputs": [],
   "source": [
    "# Play along!  Write out that deck for future use.\n"
   ]
  },
  {
   "cell_type": "code",
   "execution_count": 121,
   "metadata": {
    "collapsed": false
   },
   "outputs": [
    {
     "data": {
      "text/html": [
       "<div>\n",
       "<style>\n",
       "    .dataframe thead tr:only-child th {\n",
       "        text-align: right;\n",
       "    }\n",
       "\n",
       "    .dataframe thead th {\n",
       "        text-align: left;\n",
       "    }\n",
       "\n",
       "    .dataframe tbody tr th {\n",
       "        vertical-align: top;\n",
       "    }\n",
       "</style>\n",
       "<table border=\"1\" class=\"dataframe\">\n",
       "  <thead>\n",
       "    <tr style=\"text-align: right;\">\n",
       "      <th></th>\n",
       "      <th>suit</th>\n",
       "      <th>value</th>\n",
       "      <th>color</th>\n",
       "    </tr>\n",
       "  </thead>\n",
       "  <tbody>\n",
       "    <tr>\n",
       "      <th>0</th>\n",
       "      <td>Clubs</td>\n",
       "      <td>2</td>\n",
       "      <td>black</td>\n",
       "    </tr>\n",
       "    <tr>\n",
       "      <th>1</th>\n",
       "      <td>Spades</td>\n",
       "      <td>3</td>\n",
       "      <td>black</td>\n",
       "    </tr>\n",
       "    <tr>\n",
       "      <th>2</th>\n",
       "      <td>Diamonds</td>\n",
       "      <td>4</td>\n",
       "      <td>red</td>\n",
       "    </tr>\n",
       "    <tr>\n",
       "      <th>3</th>\n",
       "      <td>Hearts</td>\n",
       "      <td>5</td>\n",
       "      <td>red</td>\n",
       "    </tr>\n",
       "    <tr>\n",
       "      <th>4</th>\n",
       "      <td>Clubs</td>\n",
       "      <td>6</td>\n",
       "      <td>black</td>\n",
       "    </tr>\n",
       "  </tbody>\n",
       "</table>\n",
       "</div>"
      ],
      "text/plain": [
       "       suit value  color\n",
       "0     Clubs     2  black\n",
       "1    Spades     3  black\n",
       "2  Diamonds     4    red\n",
       "3    Hearts     5    red\n",
       "4     Clubs     6  black"
      ]
     },
     "execution_count": 121,
     "metadata": {},
     "output_type": "execute_result"
    }
   ],
   "source": [
    "# Lets add some attribute data to our deck:\n",
    "\n",
    "deck['color'] = 'black'\n",
    "deck.loc[(deck.suit=='Diamonds') | (deck.suit=='Hearts'),'color'] = 'red'\n",
    "deck.head()"
   ]
  },
  {
   "cell_type": "code",
   "execution_count": 140,
   "metadata": {
    "collapsed": false
   },
   "outputs": [
    {
     "data": {
      "text/html": [
       "<div>\n",
       "<style>\n",
       "    .dataframe thead tr:only-child th {\n",
       "        text-align: right;\n",
       "    }\n",
       "\n",
       "    .dataframe thead th {\n",
       "        text-align: left;\n",
       "    }\n",
       "\n",
       "    .dataframe tbody tr th {\n",
       "        vertical-align: top;\n",
       "    }\n",
       "</style>\n",
       "<table border=\"1\" class=\"dataframe\">\n",
       "  <thead>\n",
       "    <tr style=\"text-align: right;\">\n",
       "      <th></th>\n",
       "      <th>suit</th>\n",
       "      <th>value</th>\n",
       "      <th>color</th>\n",
       "    </tr>\n",
       "  </thead>\n",
       "  <tbody>\n",
       "    <tr>\n",
       "      <th>41</th>\n",
       "      <td>Spades</td>\n",
       "      <td>4</td>\n",
       "      <td>black</td>\n",
       "    </tr>\n",
       "  </tbody>\n",
       "</table>\n",
       "</div>"
      ],
      "text/plain": [
       "      suit value  color\n",
       "41  Spades     4  black"
      ]
     },
     "execution_count": 140,
     "metadata": {},
     "output_type": "execute_result"
    }
   ],
   "source": [
    "# Let's draw a card!\n",
    "\n",
    "deck.sample()"
   ]
  },
  {
   "cell_type": "code",
   "execution_count": 144,
   "metadata": {
    "collapsed": false
   },
   "outputs": [
    {
     "data": {
      "text/html": [
       "<div>\n",
       "<style>\n",
       "    .dataframe thead tr:only-child th {\n",
       "        text-align: right;\n",
       "    }\n",
       "\n",
       "    .dataframe thead th {\n",
       "        text-align: left;\n",
       "    }\n",
       "\n",
       "    .dataframe tbody tr th {\n",
       "        vertical-align: top;\n",
       "    }\n",
       "</style>\n",
       "<table border=\"1\" class=\"dataframe\">\n",
       "  <thead>\n",
       "    <tr style=\"text-align: right;\">\n",
       "      <th></th>\n",
       "      <th>suit</th>\n",
       "      <th>value</th>\n",
       "      <th>color</th>\n",
       "    </tr>\n",
       "  </thead>\n",
       "  <tbody>\n",
       "    <tr>\n",
       "      <th>37</th>\n",
       "      <td>Spades</td>\n",
       "      <td>King</td>\n",
       "      <td>black</td>\n",
       "    </tr>\n",
       "    <tr>\n",
       "      <th>0</th>\n",
       "      <td>Clubs</td>\n",
       "      <td>2</td>\n",
       "      <td>black</td>\n",
       "    </tr>\n",
       "    <tr>\n",
       "      <th>2</th>\n",
       "      <td>Diamonds</td>\n",
       "      <td>4</td>\n",
       "      <td>red</td>\n",
       "    </tr>\n",
       "    <tr>\n",
       "      <th>47</th>\n",
       "      <td>Hearts</td>\n",
       "      <td>10</td>\n",
       "      <td>red</td>\n",
       "    </tr>\n",
       "    <tr>\n",
       "      <th>8</th>\n",
       "      <td>Clubs</td>\n",
       "      <td>10</td>\n",
       "      <td>black</td>\n",
       "    </tr>\n",
       "  </tbody>\n",
       "</table>\n",
       "</div>"
      ],
      "text/plain": [
       "        suit value  color\n",
       "37    Spades  King  black\n",
       "0      Clubs     2  black\n",
       "2   Diamonds     4    red\n",
       "47    Hearts    10    red\n",
       "8      Clubs    10  black"
      ]
     },
     "execution_count": 144,
     "metadata": {},
     "output_type": "execute_result"
    }
   ],
   "source": [
    "# Draw 10,000 cards!  Replacement is set to False by default in a dataframe\n",
    "\n",
    "k = 10000\n",
    "my_sample = deck.sample(k,replace=True)\n",
    "my_sample.head()"
   ]
  },
  {
   "cell_type": "code",
   "execution_count": null,
   "metadata": {
    "collapsed": true
   },
   "outputs": [],
   "source": [
    "# Play along!  How many times did you draw a black card?"
   ]
  },
  {
   "cell_type": "code",
   "execution_count": null,
   "metadata": {
    "collapsed": true
   },
   "outputs": [],
   "source": [
    "# Play along!  How many times did you draw the 3 of diamonds?  How many would you expect?"
   ]
  },
  {
   "cell_type": "code",
   "execution_count": 149,
   "metadata": {
    "collapsed": false
   },
   "outputs": [],
   "source": [
    "# Play along! How many queens did you get?"
   ]
  },
  {
   "cell_type": "markdown",
   "metadata": {},
   "source": [
    "## Replacement"
   ]
  },
  {
   "cell_type": "code",
   "execution_count": 154,
   "metadata": {
    "collapsed": false
   },
   "outputs": [
    {
     "name": "stdout",
     "output_type": "stream",
     "text": [
      "        suit  value  color\n",
      "14  Diamonds      3    red\n",
      "8      Clubs     10  black\n",
      "49    Spades  Queen  black\n",
      "26  Diamonds      2    red\n",
      "0      Clubs      2  black\n"
     ]
    }
   ],
   "source": [
    "# Suppose we wanted to investigate the odd of getting a flush in poker:\n",
    "\n",
    "hand = deck.sample(5,replace=False)\n",
    "print(hand)"
   ]
  },
  {
   "cell_type": "code",
   "execution_count": 153,
   "metadata": {
    "collapsed": false
   },
   "outputs": [
    {
     "data": {
      "text/plain": [
       "array(['Diamonds', 'Hearts', 'Spades'], dtype=object)"
      ]
     },
     "execution_count": 153,
     "metadata": {},
     "output_type": "execute_result"
    }
   ],
   "source": [
    "# How would I know if I had a flush?  I can use the \"unique\" method to see if I have just one suit:\n",
    "\n",
    "hand['suit'].unique()"
   ]
  },
  {
   "cell_type": "code",
   "execution_count": 155,
   "metadata": {
    "collapsed": false
   },
   "outputs": [
    {
     "data": {
      "text/plain": [
       "Diamonds    2\n",
       "Clubs       2\n",
       "Spades      1\n",
       "Name: suit, dtype: int64"
      ]
     },
     "execution_count": 155,
     "metadata": {},
     "output_type": "execute_result"
    }
   ],
   "source": [
    "# Or I could use value_counts to get the number:\n",
    "\n",
    "hand['suit'].value_counts()"
   ]
  },
  {
   "cell_type": "code",
   "execution_count": 167,
   "metadata": {
    "collapsed": false
   },
   "outputs": [
    {
     "data": {
      "text/plain": [
       "False"
      ]
     },
     "execution_count": 167,
     "metadata": {},
     "output_type": "execute_result"
    }
   ],
   "source": [
    "# On this first, cut, imagaine we just want to see if we got a flush or not:\n",
    "\n",
    "hand = deck.sample(5,replace=False)\n",
    "len(hand['suit'].unique()) == 1"
   ]
  },
  {
   "cell_type": "code",
   "execution_count": 169,
   "metadata": {
    "collapsed": false
   },
   "outputs": [
    {
     "data": {
      "text/plain": [
       "18.0"
      ]
     },
     "execution_count": 169,
     "metadata": {},
     "output_type": "execute_result"
    }
   ],
   "source": [
    "# We COULD simulate this with a loop:\n",
    "\n",
    "k = 10000\n",
    "is_a_flush = np.zeros(k)\n",
    "for i in range(k):\n",
    "    hand = deck.sample(5,replace=False)\n",
    "    is_a_flush[i] = len(hand['suit'].unique()) == 1\n",
    "np.sum(is_a_flush)"
   ]
  },
  {
   "cell_type": "code",
   "execution_count": null,
   "metadata": {
    "collapsed": true
   },
   "outputs": [],
   "source": [
    "# But you might notice this takes a while!\n",
    "# Play along!  How long does it take?  "
   ]
  },
  {
   "cell_type": "code",
   "execution_count": 407,
   "metadata": {
    "collapsed": false
   },
   "outputs": [
    {
     "name": "stdout",
     "output_type": "stream",
     "text": [
      "[ 6  7 12 51 19 45  0 23 44 15  2  3 47 42 38 26 37 40 46 11 21 31 39 33 50\n",
      " 20 24  5 49 18 36 35 13 32 30 28 14 41 48 17 16 29  9  8 22  1 43 10 25 27\n",
      "  4 34]\n"
     ]
    },
    {
     "data": {
      "text/html": [
       "<div>\n",
       "<style>\n",
       "    .dataframe thead tr:only-child th {\n",
       "        text-align: right;\n",
       "    }\n",
       "\n",
       "    .dataframe thead th {\n",
       "        text-align: left;\n",
       "    }\n",
       "\n",
       "    .dataframe tbody tr th {\n",
       "        vertical-align: top;\n",
       "    }\n",
       "</style>\n",
       "<table border=\"1\" class=\"dataframe\">\n",
       "  <thead>\n",
       "    <tr style=\"text-align: right;\">\n",
       "      <th></th>\n",
       "      <th>suit</th>\n",
       "      <th>value</th>\n",
       "      <th>color</th>\n",
       "    </tr>\n",
       "  </thead>\n",
       "  <tbody>\n",
       "    <tr>\n",
       "      <th>6</th>\n",
       "      <td>Diamonds</td>\n",
       "      <td>8</td>\n",
       "      <td>red</td>\n",
       "    </tr>\n",
       "    <tr>\n",
       "      <th>7</th>\n",
       "      <td>Hearts</td>\n",
       "      <td>9</td>\n",
       "      <td>red</td>\n",
       "    </tr>\n",
       "    <tr>\n",
       "      <th>12</th>\n",
       "      <td>Clubs</td>\n",
       "      <td>Ace</td>\n",
       "      <td>black</td>\n",
       "    </tr>\n",
       "    <tr>\n",
       "      <th>51</th>\n",
       "      <td>Hearts</td>\n",
       "      <td>Ace</td>\n",
       "      <td>red</td>\n",
       "    </tr>\n",
       "    <tr>\n",
       "      <th>19</th>\n",
       "      <td>Hearts</td>\n",
       "      <td>8</td>\n",
       "      <td>red</td>\n",
       "    </tr>\n",
       "    <tr>\n",
       "      <th>45</th>\n",
       "      <td>Spades</td>\n",
       "      <td>8</td>\n",
       "      <td>black</td>\n",
       "    </tr>\n",
       "    <tr>\n",
       "      <th>0</th>\n",
       "      <td>Clubs</td>\n",
       "      <td>2</td>\n",
       "      <td>black</td>\n",
       "    </tr>\n",
       "    <tr>\n",
       "      <th>23</th>\n",
       "      <td>Hearts</td>\n",
       "      <td>Queen</td>\n",
       "      <td>red</td>\n",
       "    </tr>\n",
       "    <tr>\n",
       "      <th>44</th>\n",
       "      <td>Clubs</td>\n",
       "      <td>7</td>\n",
       "      <td>black</td>\n",
       "    </tr>\n",
       "    <tr>\n",
       "      <th>15</th>\n",
       "      <td>Hearts</td>\n",
       "      <td>4</td>\n",
       "      <td>red</td>\n",
       "    </tr>\n",
       "    <tr>\n",
       "      <th>2</th>\n",
       "      <td>Diamonds</td>\n",
       "      <td>4</td>\n",
       "      <td>red</td>\n",
       "    </tr>\n",
       "    <tr>\n",
       "      <th>3</th>\n",
       "      <td>Hearts</td>\n",
       "      <td>5</td>\n",
       "      <td>red</td>\n",
       "    </tr>\n",
       "    <tr>\n",
       "      <th>47</th>\n",
       "      <td>Hearts</td>\n",
       "      <td>10</td>\n",
       "      <td>red</td>\n",
       "    </tr>\n",
       "    <tr>\n",
       "      <th>42</th>\n",
       "      <td>Diamonds</td>\n",
       "      <td>5</td>\n",
       "      <td>red</td>\n",
       "    </tr>\n",
       "    <tr>\n",
       "      <th>38</th>\n",
       "      <td>Diamonds</td>\n",
       "      <td>Ace</td>\n",
       "      <td>red</td>\n",
       "    </tr>\n",
       "    <tr>\n",
       "      <th>26</th>\n",
       "      <td>Diamonds</td>\n",
       "      <td>2</td>\n",
       "      <td>red</td>\n",
       "    </tr>\n",
       "    <tr>\n",
       "      <th>37</th>\n",
       "      <td>Spades</td>\n",
       "      <td>King</td>\n",
       "      <td>black</td>\n",
       "    </tr>\n",
       "    <tr>\n",
       "      <th>40</th>\n",
       "      <td>Clubs</td>\n",
       "      <td>3</td>\n",
       "      <td>black</td>\n",
       "    </tr>\n",
       "    <tr>\n",
       "      <th>46</th>\n",
       "      <td>Diamonds</td>\n",
       "      <td>9</td>\n",
       "      <td>red</td>\n",
       "    </tr>\n",
       "    <tr>\n",
       "      <th>11</th>\n",
       "      <td>Hearts</td>\n",
       "      <td>King</td>\n",
       "      <td>red</td>\n",
       "    </tr>\n",
       "    <tr>\n",
       "      <th>21</th>\n",
       "      <td>Spades</td>\n",
       "      <td>10</td>\n",
       "      <td>black</td>\n",
       "    </tr>\n",
       "    <tr>\n",
       "      <th>31</th>\n",
       "      <td>Hearts</td>\n",
       "      <td>7</td>\n",
       "      <td>red</td>\n",
       "    </tr>\n",
       "    <tr>\n",
       "      <th>39</th>\n",
       "      <td>Hearts</td>\n",
       "      <td>2</td>\n",
       "      <td>red</td>\n",
       "    </tr>\n",
       "    <tr>\n",
       "      <th>33</th>\n",
       "      <td>Spades</td>\n",
       "      <td>9</td>\n",
       "      <td>black</td>\n",
       "    </tr>\n",
       "    <tr>\n",
       "      <th>50</th>\n",
       "      <td>Diamonds</td>\n",
       "      <td>King</td>\n",
       "      <td>red</td>\n",
       "    </tr>\n",
       "    <tr>\n",
       "      <th>20</th>\n",
       "      <td>Clubs</td>\n",
       "      <td>9</td>\n",
       "      <td>black</td>\n",
       "    </tr>\n",
       "    <tr>\n",
       "      <th>24</th>\n",
       "      <td>Clubs</td>\n",
       "      <td>King</td>\n",
       "      <td>black</td>\n",
       "    </tr>\n",
       "    <tr>\n",
       "      <th>5</th>\n",
       "      <td>Spades</td>\n",
       "      <td>7</td>\n",
       "      <td>black</td>\n",
       "    </tr>\n",
       "    <tr>\n",
       "      <th>49</th>\n",
       "      <td>Spades</td>\n",
       "      <td>Queen</td>\n",
       "      <td>black</td>\n",
       "    </tr>\n",
       "    <tr>\n",
       "      <th>18</th>\n",
       "      <td>Diamonds</td>\n",
       "      <td>7</td>\n",
       "      <td>red</td>\n",
       "    </tr>\n",
       "    <tr>\n",
       "      <th>36</th>\n",
       "      <td>Clubs</td>\n",
       "      <td>Queen</td>\n",
       "      <td>black</td>\n",
       "    </tr>\n",
       "    <tr>\n",
       "      <th>35</th>\n",
       "      <td>Hearts</td>\n",
       "      <td>Jack</td>\n",
       "      <td>red</td>\n",
       "    </tr>\n",
       "    <tr>\n",
       "      <th>13</th>\n",
       "      <td>Spades</td>\n",
       "      <td>2</td>\n",
       "      <td>black</td>\n",
       "    </tr>\n",
       "    <tr>\n",
       "      <th>32</th>\n",
       "      <td>Clubs</td>\n",
       "      <td>8</td>\n",
       "      <td>black</td>\n",
       "    </tr>\n",
       "    <tr>\n",
       "      <th>30</th>\n",
       "      <td>Diamonds</td>\n",
       "      <td>6</td>\n",
       "      <td>red</td>\n",
       "    </tr>\n",
       "    <tr>\n",
       "      <th>28</th>\n",
       "      <td>Clubs</td>\n",
       "      <td>4</td>\n",
       "      <td>black</td>\n",
       "    </tr>\n",
       "    <tr>\n",
       "      <th>14</th>\n",
       "      <td>Diamonds</td>\n",
       "      <td>3</td>\n",
       "      <td>red</td>\n",
       "    </tr>\n",
       "    <tr>\n",
       "      <th>41</th>\n",
       "      <td>Spades</td>\n",
       "      <td>4</td>\n",
       "      <td>black</td>\n",
       "    </tr>\n",
       "    <tr>\n",
       "      <th>48</th>\n",
       "      <td>Clubs</td>\n",
       "      <td>Jack</td>\n",
       "      <td>black</td>\n",
       "    </tr>\n",
       "    <tr>\n",
       "      <th>17</th>\n",
       "      <td>Spades</td>\n",
       "      <td>6</td>\n",
       "      <td>black</td>\n",
       "    </tr>\n",
       "    <tr>\n",
       "      <th>16</th>\n",
       "      <td>Clubs</td>\n",
       "      <td>5</td>\n",
       "      <td>black</td>\n",
       "    </tr>\n",
       "    <tr>\n",
       "      <th>29</th>\n",
       "      <td>Spades</td>\n",
       "      <td>5</td>\n",
       "      <td>black</td>\n",
       "    </tr>\n",
       "    <tr>\n",
       "      <th>9</th>\n",
       "      <td>Spades</td>\n",
       "      <td>Jack</td>\n",
       "      <td>black</td>\n",
       "    </tr>\n",
       "    <tr>\n",
       "      <th>8</th>\n",
       "      <td>Clubs</td>\n",
       "      <td>10</td>\n",
       "      <td>black</td>\n",
       "    </tr>\n",
       "    <tr>\n",
       "      <th>22</th>\n",
       "      <td>Diamonds</td>\n",
       "      <td>Jack</td>\n",
       "      <td>red</td>\n",
       "    </tr>\n",
       "    <tr>\n",
       "      <th>1</th>\n",
       "      <td>Spades</td>\n",
       "      <td>3</td>\n",
       "      <td>black</td>\n",
       "    </tr>\n",
       "    <tr>\n",
       "      <th>43</th>\n",
       "      <td>Hearts</td>\n",
       "      <td>6</td>\n",
       "      <td>red</td>\n",
       "    </tr>\n",
       "    <tr>\n",
       "      <th>10</th>\n",
       "      <td>Diamonds</td>\n",
       "      <td>Queen</td>\n",
       "      <td>red</td>\n",
       "    </tr>\n",
       "    <tr>\n",
       "      <th>25</th>\n",
       "      <td>Spades</td>\n",
       "      <td>Ace</td>\n",
       "      <td>black</td>\n",
       "    </tr>\n",
       "    <tr>\n",
       "      <th>27</th>\n",
       "      <td>Hearts</td>\n",
       "      <td>3</td>\n",
       "      <td>red</td>\n",
       "    </tr>\n",
       "    <tr>\n",
       "      <th>4</th>\n",
       "      <td>Clubs</td>\n",
       "      <td>6</td>\n",
       "      <td>black</td>\n",
       "    </tr>\n",
       "    <tr>\n",
       "      <th>34</th>\n",
       "      <td>Diamonds</td>\n",
       "      <td>10</td>\n",
       "      <td>red</td>\n",
       "    </tr>\n",
       "  </tbody>\n",
       "</table>\n",
       "</div>"
      ],
      "text/plain": [
       "        suit  value  color\n",
       "6   Diamonds      8    red\n",
       "7     Hearts      9    red\n",
       "12     Clubs    Ace  black\n",
       "51    Hearts    Ace    red\n",
       "19    Hearts      8    red\n",
       "45    Spades      8  black\n",
       "0      Clubs      2  black\n",
       "23    Hearts  Queen    red\n",
       "44     Clubs      7  black\n",
       "15    Hearts      4    red\n",
       "2   Diamonds      4    red\n",
       "3     Hearts      5    red\n",
       "47    Hearts     10    red\n",
       "42  Diamonds      5    red\n",
       "38  Diamonds    Ace    red\n",
       "26  Diamonds      2    red\n",
       "37    Spades   King  black\n",
       "40     Clubs      3  black\n",
       "46  Diamonds      9    red\n",
       "11    Hearts   King    red\n",
       "21    Spades     10  black\n",
       "31    Hearts      7    red\n",
       "39    Hearts      2    red\n",
       "33    Spades      9  black\n",
       "50  Diamonds   King    red\n",
       "20     Clubs      9  black\n",
       "24     Clubs   King  black\n",
       "5     Spades      7  black\n",
       "49    Spades  Queen  black\n",
       "18  Diamonds      7    red\n",
       "36     Clubs  Queen  black\n",
       "35    Hearts   Jack    red\n",
       "13    Spades      2  black\n",
       "32     Clubs      8  black\n",
       "30  Diamonds      6    red\n",
       "28     Clubs      4  black\n",
       "14  Diamonds      3    red\n",
       "41    Spades      4  black\n",
       "48     Clubs   Jack  black\n",
       "17    Spades      6  black\n",
       "16     Clubs      5  black\n",
       "29    Spades      5  black\n",
       "9     Spades   Jack  black\n",
       "8      Clubs     10  black\n",
       "22  Diamonds   Jack    red\n",
       "1     Spades      3  black\n",
       "43    Hearts      6    red\n",
       "10  Diamonds  Queen    red\n",
       "25    Spades    Ace  black\n",
       "27    Hearts      3    red\n",
       "4      Clubs      6  black\n",
       "34  Diamonds     10    red"
      ]
     },
     "execution_count": 407,
     "metadata": {},
     "output_type": "execute_result"
    }
   ],
   "source": [
    "# We could also imagine our deck of cards as numbers from 0 to 51\n",
    "idx = np.arange(52)\n",
    "\n",
    "# And then we could shuffle that:\n",
    "np.random.shuffle(idx)\n",
    "\n",
    "# And see that the \"deck\" has been shuffled.\n",
    "print(idx)\n",
    "\n",
    "# We can recover our shuffled deck from pandas this way:\n",
    "deck.loc[idx]"
   ]
  },
  {
   "cell_type": "code",
   "execution_count": 420,
   "metadata": {
    "collapsed": false
   },
   "outputs": [
    {
     "name": "stdout",
     "output_type": "stream",
     "text": [
      "        suit  value  color\n",
      "34  Diamonds     10    red\n",
      "45    Spades      8  black\n",
      "51    Hearts    Ace    red\n",
      "26  Diamonds      2    red\n",
      "49    Spades  Queen  black\n"
     ]
    }
   ],
   "source": [
    "# If we only wanted the first 5 cards as our \"hand\" we could do this:\n",
    "\n",
    "# Our population is the 52 cards (0 to 51) and we're asking for 5 of them.\n",
    "idx = np.random.choice(52,5,replace=False)\n",
    "hand= deck.loc[idx]\n",
    "print(hand)"
   ]
  },
  {
   "cell_type": "code",
   "execution_count": 421,
   "metadata": {
    "collapsed": false
   },
   "outputs": [
    {
     "name": "stdout",
     "output_type": "stream",
     "text": [
      "49      Spades\n",
      "30    Diamonds\n",
      "45      Spades\n",
      "27      Hearts\n",
      "37      Spades\n",
      "Name: suit, dtype: object\n"
     ]
    }
   ],
   "source": [
    "# We could also only pay attention to the suit information:\n",
    "\n",
    "idx = np.random.choice(52,5,replace=False)\n",
    "my_suits = deck.loc[idx,'suit']\n",
    "print(my_suits)\n"
   ]
  },
  {
   "cell_type": "code",
   "execution_count": 423,
   "metadata": {
    "collapsed": false
   },
   "outputs": [
    {
     "data": {
      "text/plain": [
       "15.0"
      ]
     },
     "execution_count": 423,
     "metadata": {},
     "output_type": "execute_result"
    }
   ],
   "source": [
    "# Solving this with idx-based methods:\n",
    "k = 10000\n",
    "is_a_flush = np.zeros(k)\n",
    "for i in range(k):\n",
    "    idx = np.random.choice(52,5,replace=False)\n",
    "    hand= deck.loc[idx]\n",
    "np.sum(is_a_flush)"
   ]
  },
  {
   "cell_type": "code",
   "execution_count": null,
   "metadata": {
    "collapsed": true
   },
   "outputs": [],
   "source": [
    "# Play along!  Can you figure out how to discard the cards that aren't a flush (up to three), and draw three new cards?\n",
    "# What's the probability of getting a flush if you can discard up to three cards? (this is a hard one!)"
   ]
  },
  {
   "cell_type": "markdown",
   "metadata": {},
   "source": [
    "## Simulating a process.  REAL shuffling."
   ]
  },
  {
   "cell_type": "markdown",
   "metadata": {},
   "source": [
    "Shuffling a deck of cards involves splitting the deck into two piles, and then having cards drop, more or less randomly, from either pile.  Here, I split the piles according to the binomial distribution, and then choose a card from one pile or the other proportionally based on its height (i.e., the number of cards in it).\n",
    "\n",
    "Further Reading:\n",
    "https://github.com/thomaspingel/riffle-shuffle/blob/master/A%20Quick%20Look%20at%20Shuffling.ipynb\n"
   ]
  },
  {
   "cell_type": "code",
   "execution_count": 2,
   "metadata": {
    "collapsed": true
   },
   "outputs": [],
   "source": [
    "def riffle(deck,n_times=1):\n",
    "    \n",
    "    n_cards = deck.size\n",
    "    \n",
    "    for j in range(n_times):\n",
    "        # Split the deck into two piles (left and right) according to the binomial distribution at position \"pos\"\n",
    "        pos = binom(n_cards,.5).rvs(1)[0]\n",
    "        left, right = deck[:pos].copy(), deck[pos:].copy()\n",
    "        \n",
    "        # Initialize the deck.  Cards will be placed back here.\n",
    "        deck[:] = -1\n",
    "\n",
    "        # The probability of grabbing the card from left or right\n",
    "        # is proportional to the size of that pile\n",
    "        for i in range(n_cards):\n",
    "            p = np.random.rand()\n",
    "            thresh = left.size / (left.size + right.size)\n",
    "            if p < thresh:\n",
    "                deck[i] = left[0]\n",
    "                left = np.delete(left,0)\n",
    "            else:\n",
    "                deck[i] = right[0]\n",
    "                right = np.delete(right,0)"
   ]
  },
  {
   "cell_type": "code",
   "execution_count": 3,
   "metadata": {
    "collapsed": false
   },
   "outputs": [
    {
     "name": "stdout",
     "output_type": "stream",
     "text": [
      "[ 0 23 24  1 25 26 27 28 29  2 30  3 31  4 32 33 34 35  5  6  7  8  9 10 11\n",
      " 36 37 12 38 39 40 41 13 42 14 15 43 44 16 45 17 46 47 18 48 49 50 19 20 21\n",
      " 22 51]\n"
     ]
    }
   ],
   "source": [
    "# Simulate one shuffle\n",
    "\n",
    "deck = np.arange(52)\n",
    "riffle(deck)\n",
    "print(deck)"
   ]
  },
  {
   "cell_type": "code",
   "execution_count": 58,
   "metadata": {
    "collapsed": false
   },
   "outputs": [
    {
     "data": {
      "text/plain": [
       "<matplotlib.text.Text at 0x18f697ef048>"
      ]
     },
     "execution_count": 58,
     "metadata": {},
     "output_type": "execute_result"
    },
    {
     "data": {
      "image/png": "[encoded data removed]",
      "text/plain": [
       "<matplotlib.figure.Figure at 0x18f69748c18>"
      ]
     },
     "metadata": {},
     "output_type": "display_data"
    }
   ],
   "source": [
    "# And visualize the \"rising sequences\" in the shuffled deck as an visual indicator of randomness.  An unshuffled deck would be \n",
    "# one continuous rising sequence, and a well shuffled deck would appear like random dots (the starting position is unrelated)\n",
    "# to the ending position.\n",
    "\n",
    "fix, ax = plt.subplots(figsize=(10,4))\n",
    "plt.subplot(121)\n",
    "deck = np.arange(52)\n",
    "riffle(deck)\n",
    "plt.plot(deck,'.')\n",
    "plt.title('One Shuffle')\n",
    "\n",
    "plt.subplot(122)\n",
    "deck = np.arange(52)\n",
    "riffle(deck,100)\n",
    "plt.plot(deck,'.')\n",
    "plt.title('One Hundred Shuffles')"
   ]
  },
  {
   "cell_type": "code",
   "execution_count": 59,
   "metadata": {
    "collapsed": false
   },
   "outputs": [
    {
     "name": "stdout",
     "output_type": "stream",
     "text": [
      "[ 0  1  2  3 27 28  4 29  5 30  6 31 32 33  7 34 35 36 37  8 38 39 40  9 41\n",
      " 10 42 43 11 44 12 13 14 15 16 17 18 19 45 46 20 47 48 21 22 23 24 49 50 25\n",
      " 51 26]\n"
     ]
    },
    {
     "data": {
      "text/plain": [
       "(array([0], dtype=int64),)"
      ]
     },
     "execution_count": 59,
     "metadata": {},
     "output_type": "execute_result"
    }
   ],
   "source": [
    "# Next, we'll run a simulation look at where the top card ends up.  On a well-shuffled deck, the top card\n",
    "# should be equally likely to appear anywhere.  We'll use numpy's \"where\" to find out where it landed.\n",
    "\n",
    "# Rerun this code block to see where the top card ends up with different shuffles.\n",
    "\n",
    "deck = np.arange(52)\n",
    "riffle(deck)\n",
    "print(deck)\n",
    "np.where(deck==0)"
   ]
  },
  {
   "cell_type": "code",
   "execution_count": 60,
   "metadata": {
    "collapsed": false
   },
   "outputs": [
    {
     "data": {
      "text/plain": [
       "<matplotlib.colorbar.Colorbar at 0x18f6987bc18>"
      ]
     },
     "execution_count": 60,
     "metadata": {},
     "output_type": "execute_result"
    },
    {
     "data": {
      "image/png": "[encoded data removed]",
      "text/plain": [
       "<matplotlib.figure.Figure at 0x18f6984f9b0>"
      ]
     },
     "metadata": {},
     "output_type": "display_data"
    }
   ],
   "source": [
    "# Run a simulation of twenty decks, shuffled 20 times each and tracking where the top card ended up.\n",
    "# In a well-shuffled deck, the top card should be equally likely to appear anywhere.\n",
    "\n",
    "n_shuffles = 20\n",
    "n_decks = 20\n",
    "top_card = 255*np.ones((n_decks,n_shuffles),dtype=np.uint8)\n",
    "for i in range(n_decks):\n",
    "    deck = np.arange(52)\n",
    "    for j in range(n_shuffles):\n",
    "        riffle(deck)\n",
    "        top_card[i,j] = np.where(deck==0)[0]\n",
    "        \n",
    "# Visualize the results.  Notice most of the time at the beginning, the top card ends up near the top (position 0),\n",
    "# but with enough shuffles, it's essentially random.\n",
    "plt.imshow(top_card,interpolation=\"none\")\n",
    "plt.xlabel('shuffles')\n",
    "plt.ylabel('deck')\n",
    "plt.colorbar()"
   ]
  },
  {
   "cell_type": "markdown",
   "metadata": {},
   "source": [
    "Finally, we can track the overall distribution of of top cards over many, many shuffles.  Think of this like the image above, but where the number of decks is much larger (say, 1000)."
   ]
  },
  {
   "cell_type": "code",
   "execution_count": 61,
   "metadata": {
    "collapsed": true
   },
   "outputs": [],
   "source": [
    "n_shuffles = 16\n",
    "n_decks = 1000\n",
    "top_card = 255*np.ones((n_decks,n_shuffles),dtype=np.uint8)\n",
    "for i in range(n_decks):\n",
    "    deck = np.arange(52)\n",
    "    for j in range(n_shuffles):\n",
    "        riffle(deck)\n",
    "        top_card[i,j] = np.where(deck==0)[0]"
   ]
  },
  {
   "cell_type": "code",
   "execution_count": 63,
   "metadata": {
    "collapsed": false
   },
   "outputs": [
    {
     "data": {
      "text/plain": [
       "<matplotlib.colorbar.Colorbar at 0x18f69a99a58>"
      ]
     },
     "execution_count": 63,
     "metadata": {},
     "output_type": "execute_result"
    },
    {
     "data": {
      "image/png": "[encoded data removed]",
      "text/plain": [
       "<matplotlib.figure.Figure at 0x18f699f61d0>"
      ]
     },
     "metadata": {},
     "output_type": "display_data"
    }
   ],
   "source": [
    "# Visualize the results; we'll turn it on its side.\n",
    "fig, ax = plt.subplots(figsize=(10,3))\n",
    "plt.imshow(top_card.T,interpolation=\"none\")\n",
    "plt.xlabel('deck')\n",
    "plt.ylabel('shuffles')\n",
    "plt.colorbar()"
   ]
  },
  {
   "cell_type": "code",
   "execution_count": 64,
   "metadata": {
    "collapsed": false
   },
   "outputs": [
    {
     "data": {
      "image/png": "[encoded data removed]",
      "text/plain": [
       "<matplotlib.figure.Figure at 0x18f69ab76a0>"
      ]
     },
     "metadata": {},
     "output_type": "display_data"
    }
   ],
   "source": [
    "# To see the pattern, we'll construct a histogram for each shuffle, so we can track the likelihood of where\n",
    "# the top card ends up after each shuffle.\n",
    "\n",
    "for i in range(15):\n",
    "    plt.subplot(4,4,i+2)\n",
    "    plt.hist(top_card[:,i],bins=52)\n",
    "plt.show()"
   ]
  },
  {
   "cell_type": "markdown",
   "metadata": {
    "collapsed": true
   },
   "source": [
    "While at the first shuffle, it's by far more common for the card to end up in positions 0 to 7.  Even after 3-4 shuffles, it's far more likely that the original top card will be near the top.  But by about the 7th shuffle, there's a good chance it'll end up anywhere.  Shuffling 8-16 times doesn't seem to add that much value."
   ]
  },
  {
   "cell_type": "code",
   "execution_count": null,
   "metadata": {
    "collapsed": true
   },
   "outputs": [],
   "source": []
  }
 ],
 "metadata": {
  "anaconda-cloud": {},
  "kernelspec": {
   "display_name": "Python [default]",
   "language": "python",
   "name": "python3"
  },
  "language_info": {
   "codemirror_mode": {
    "name": "ipython",
    "version": 3
   },
   "file_extension": ".py",
   "mimetype": "text/x-python",
   "name": "python",
   "nbconvert_exporter": "python",
   "pygments_lexer": "ipython3",
   "version": "3.5.2"
  }
 },
 "nbformat": 4,
 "nbformat_minor": 0
}
